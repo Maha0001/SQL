{
 "cells": [
  {
   "cell_type": "markdown",
   "id": "57fde27b-5013-43eb-8e76-20e67de4c08c",
   "metadata": {},
   "source": [
    "**Fetch Data set**"
   ]
  },
  {
   "cell_type": "code",
   "execution_count": 1,
   "id": "ffe4f88a-1bbe-4e1e-951b-acdb6721e0be",
   "metadata": {},
   "outputs": [],
   "source": [
    "from google.cloud import bigquery\n",
    "\n",
    "# Create a \"Client\" object\n",
    "client = bigquery.Client()\n",
    "\n",
    "# Construct a reference to the \"chicago_crime\" dataset\n",
    "dataset_ref = client.dataset(\"chicago_crime\", project=\"bigquery-public-data\")\n",
    "\n",
    "# API request - fetch the dataset\n",
    "dataset = client.get_dataset(dataset_ref)"
   ]
  },
  {
   "cell_type": "markdown",
   "id": "4ba7c92f-d7c0-44b9-b053-e0724f7857e6",
   "metadata": {},
   "source": [
    "**Count tables in the dataset**"
   ]
  },
  {
   "cell_type": "code",
   "execution_count": 2,
   "id": "04c04b81-3351-44f1-b1d1-ad434ea14d59",
   "metadata": {},
   "outputs": [
    {
     "name": "stdout",
     "output_type": "stream",
     "text": [
      "1\n"
     ]
    }
   ],
   "source": [
    "# List all the tables in the \"chicago_Crime\" dataset\n",
    "tables = list(client.list_tables(dataset))\n",
    "\n",
    "print(len(tables))"
   ]
  },
  {
   "cell_type": "code",
   "execution_count": 3,
   "id": "5a7af92a-cf16-41d5-bc37-c02005fc7a17",
   "metadata": {},
   "outputs": [
    {
     "name": "stdout",
     "output_type": "stream",
     "text": [
      "[SchemaField('unique_key', 'INTEGER', 'REQUIRED', None, None, (), None), SchemaField('case_number', 'STRING', 'NULLABLE', None, None, (), None), SchemaField('date', 'TIMESTAMP', 'NULLABLE', None, None, (), None), SchemaField('block', 'STRING', 'NULLABLE', None, None, (), None), SchemaField('iucr', 'STRING', 'NULLABLE', None, None, (), None), SchemaField('primary_type', 'STRING', 'NULLABLE', None, None, (), None), SchemaField('description', 'STRING', 'NULLABLE', None, None, (), None), SchemaField('location_description', 'STRING', 'NULLABLE', None, None, (), None), SchemaField('arrest', 'BOOLEAN', 'NULLABLE', None, None, (), None), SchemaField('domestic', 'BOOLEAN', 'NULLABLE', None, None, (), None), SchemaField('beat', 'INTEGER', 'NULLABLE', None, None, (), None), SchemaField('district', 'INTEGER', 'NULLABLE', None, None, (), None), SchemaField('ward', 'INTEGER', 'NULLABLE', None, None, (), None), SchemaField('community_area', 'INTEGER', 'NULLABLE', None, None, (), None), SchemaField('fbi_code', 'STRING', 'NULLABLE', None, None, (), None), SchemaField('x_coordinate', 'FLOAT', 'NULLABLE', None, None, (), None), SchemaField('y_coordinate', 'FLOAT', 'NULLABLE', None, None, (), None), SchemaField('year', 'INTEGER', 'NULLABLE', None, None, (), None), SchemaField('updated_on', 'TIMESTAMP', 'NULLABLE', None, None, (), None), SchemaField('latitude', 'FLOAT', 'NULLABLE', None, None, (), None), SchemaField('longitude', 'FLOAT', 'NULLABLE', None, None, (), None), SchemaField('location', 'STRING', 'NULLABLE', None, None, (), None)]\n"
     ]
    }
   ],
   "source": [
    "# Construct a reference to the \"crime\" table\n",
    "table_ref = dataset_ref.table(\"crime\")\n",
    "\n",
    "# API request - fetch the table\n",
    "table = client.get_table(table_ref)\n",
    "\n",
    "# Print information on all the columns in the \"crime\" table in the \"chicago_crime\" dataset\n",
    "print(table.schema)"
   ]
  },
  {
   "cell_type": "markdown",
   "id": "cf22fe68-f75a-4438-8cde-47491ca11eab",
   "metadata": {},
   "source": [
    "**Create a crime map**"
   ]
  },
  {
   "cell_type": "code",
   "execution_count": 4,
   "id": "cab92db4-0e04-4586-847f-254887071546",
   "metadata": {},
   "outputs": [],
   "source": [
    "fields_for_plotting = ['latitude', 'longitude']"
   ]
  },
  {
   "cell_type": "code",
   "execution_count": null,
   "id": "d7cd27cc-7989-4386-beaa-03c5fa491aba",
   "metadata": {},
   "outputs": [],
   "source": []
  }
 ],
 "metadata": {
  "kernelspec": {
   "display_name": "Python 3 (ipykernel)",
   "language": "python",
   "name": "python3"
  },
  "language_info": {
   "codemirror_mode": {
    "name": "ipython",
    "version": 3
   },
   "file_extension": ".py",
   "mimetype": "text/x-python",
   "name": "python",
   "nbconvert_exporter": "python",
   "pygments_lexer": "ipython3",
   "version": "3.11.2"
  }
 },
 "nbformat": 4,
 "nbformat_minor": 5
}
